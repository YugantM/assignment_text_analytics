{
 "cells": [
  {
   "cell_type": "code",
   "execution_count": 10,
   "metadata": {},
   "outputs": [
    {
     "name": "stderr",
     "output_type": "stream",
     "text": [
      "E:\\ANACONDA\\lib\\site-packages\\gensim\\utils.py:1209: UserWarning: detected Windows; aliasing chunkize to chunkize_serial\n",
      "  warnings.warn(\"detected Windows; aliasing chunkize to chunkize_serial\")\n"
     ]
    }
   ],
   "source": [
    "import textcleaner as tc\n",
    "from gensim.summarization import summarize"
   ]
  },
  {
   "cell_type": "code",
   "execution_count": 16,
   "metadata": {
    "collapsed": true
   },
   "outputs": [],
   "source": [
    "from nltk.tag import StanfordNERTagger\n",
    "from nltk.tokenize import word_tokenize"
   ]
  },
  {
   "cell_type": "code",
   "execution_count": 57,
   "metadata": {},
   "outputs": [],
   "source": [
    "from rake_nltk import Rake"
   ]
  },
  {
   "cell_type": "code",
   "execution_count": 30,
   "metadata": {
    "collapsed": true
   },
   "outputs": [],
   "source": [
    "corp = tc.corpus('corpus')"
   ]
  },
  {
   "cell_type": "code",
   "execution_count": 97,
   "metadata": {},
   "outputs": [],
   "source": [
    "doc = tc.document(corp.root+\"/\"+corp.files[0])"
   ]
  },
  {
   "cell_type": "code",
   "execution_count": 98,
   "metadata": {},
   "outputs": [],
   "source": [
    "# summurizing the document to make the text data dense\n",
    "text = summarize(\" \".join(doc.data))"
   ]
  },
  {
   "cell_type": "code",
   "execution_count": 99,
   "metadata": {},
   "outputs": [
    {
     "data": {
      "text/plain": [
       "\"Amazon.com passed many milestones in 1997: by year-end, we had served more than 1.5 million customers, yielding 838% revenue growth to $147.8 million, and extended our market leadership despite aggressive competitive entry.\\nAmazon.com uses the Internet to create real value for its customers and, by doing so, hopes to create an enduring franchise, even in established and large markets.\\nWe believe that a fundamental measure of our success will be the shareholder value we create over the long term.\\nWe first measure ourselves in terms of the metrics most indicative of our market leadership: customer and revenue growth, the degree to which our customers continue to purchase from us on a repeat basis, and the strength of our brand.\\nWe have invested and will continue to invest aggressively to expand and leverage our customer base, brand, and infrastructure as we move to establish an enduring franchise.\\nWe will continue to make investment decisions in light of long-term market leadership considerations rather than short-term profitability considerations or short-term Wall Street reactions.\\nWe will share our strategic thought processes with you when we make bold choices (to the extent competitive pressures allow), so that you may evaluate for yourselves whether we are making rational long-term leadership investments.\\nWe will balance our focus on growth with emphasis on long-term profitability and capital management.\\nFrom the beginning, our focus has been on offering our customers compelling value.\\nRepeat purchases and word of mouth have combined to make Amazon.com the market leader in online bookselling.\\nAmazon.com's employee base grew from 158 to 614, and we significantly strengthened our management team.\\nSetting the bar high in our approach to hiring has been, and will continue to be, the single most important element of Amazon.com's success.\\nIt's not easy to work here (when I interview people I tell them, “You can work long, hard, or smart, but at Amazon.com you can't choose two out of three”), but we are working to build something important, something that matters to our customers, something that we can all tell our grandchildren about.\\nOur goal remains to continue to solidify and extend our brand and customer base.\\nWe now know vastly more about online commerce than when Amazon.com was founded, but we still have so much to learn.\\nThe challenges and hurdles we will face to make our long-term vision for Amazon.com a reality are several: aggressive, capable, well-funded competition; considerable growth challenges and execution risk; the risks of product and geographic expansion; and the need for large continuing investments to meet an expanding market opportunity.\\nWe at Amazon.com are grateful to our customers for their business and trust, to each other for our hard work, and to our shareholders for their support and encouragement.\""
      ]
     },
     "execution_count": 99,
     "metadata": {},
     "output_type": "execute_result"
    }
   ],
   "source": [
    "text"
   ]
  },
  {
   "cell_type": "code",
   "execution_count": 100,
   "metadata": {},
   "outputs": [],
   "source": [
    "\n",
    "st = StanfordNERTagger('stanford-ner/classifiers/english.muc.7class.distsim.crf.ser.gz',\n",
    "                       'stanford-ner/stanford-ner.jar',\n",
    "                        encoding='utf-8')\n",
    "\n",
    "#text = 'While in France, Christine Lagarde discussed short-term stimulus efforts in a recent interview with the Wall Street Journal.'\n",
    "\n",
    "tokenized_text = word_tokenize(text)\n",
    "classified_text = st.tag(tokenized_text)\n"
   ]
  },
  {
   "cell_type": "code",
   "execution_count": 101,
   "metadata": {
    "collapsed": true
   },
   "outputs": [],
   "source": [
    "features = list(set([each[1] for each in classified_text]))"
   ]
  },
  {
   "cell_type": "code",
   "execution_count": 102,
   "metadata": {},
   "outputs": [],
   "source": [
    "#creates dictionary out of list of tuples \n",
    "result = {}\n",
    "for fea in features:\n",
    "    result[fea]=[]"
   ]
  },
  {
   "cell_type": "code",
   "execution_count": 103,
   "metadata": {},
   "outputs": [],
   "source": [
    "for each in classified_text:\n",
    "    result[each[1]].append(each[0])"
   ]
  },
  {
   "cell_type": "code",
   "execution_count": 104,
   "metadata": {},
   "outputs": [],
   "source": [
    "highlights = []\n",
    "for fea in features:\n",
    "    # if the tagged featrue is not others\n",
    "    if fea!=\"O\":\n",
    "        # look for the words in the given category\n",
    "        for word in result[fea]:\n",
    "            \n",
    "            highlights.append([sent for sent in text.split('\\n') if word in sent])"
   ]
  },
  {
   "cell_type": "code",
   "execution_count": 105,
   "metadata": {},
   "outputs": [],
   "source": [
    "final_highlights = list(set([\"\".join(x) for x in highlights]))"
   ]
  },
  {
   "cell_type": "code",
   "execution_count": 106,
   "metadata": {},
   "outputs": [],
   "source": [
    "r = Rake() # Uses stopwords for english from NLTK, and all puntuation characters.\n",
    "\n",
    "r.extract_keywords_from_text(\"\".join(list(set([\"\".join(x) for x in highlights]))))\n",
    "\n",
    "phrase = tc.remove_symbols(r.get_ranked_phrases()[0])[0] # To get keyword phrases ranked highest to lowest."
   ]
  },
  {
   "cell_type": "code",
   "execution_count": 109,
   "metadata": {},
   "outputs": [
    {
     "name": "stdout",
     "output_type": "stream",
     "text": [
      "Amazon.com passed many milestones in 1997: by year-end, we had served more than 1.5 million customers, yielding 838% revenue growth to $147.8 million, and extended our market leadership despite aggressive competitive entry.\n"
     ]
    }
   ],
   "source": [
    "# the highest ranked phrase is used in the given paragraph from the document\n",
    "for sent in text.split(\"\\n\"):\n",
    "    if phrase in str(sent):\n",
    "        print(sent)"
   ]
  }
 ],
 "metadata": {
  "kernelspec": {
   "display_name": "Python 3",
   "language": "python",
   "name": "python3"
  },
  "language_info": {
   "codemirror_mode": {
    "name": "ipython",
    "version": 3
   },
   "file_extension": ".py",
   "mimetype": "text/x-python",
   "name": "python",
   "nbconvert_exporter": "python",
   "pygments_lexer": "ipython3",
   "version": "3.6.3"
  }
 },
 "nbformat": 4,
 "nbformat_minor": 2
}
